{
  "nbformat": 4,
  "nbformat_minor": 0,
  "metadata": {
    "colab": {
      "provenance": [],
      "authorship_tag": "ABX9TyOVN46k8P19i1Wa8vTjV3EH",
      "include_colab_link": true
    },
    "kernelspec": {
      "name": "python3",
      "display_name": "Python 3"
    },
    "language_info": {
      "name": "python"
    }
  },
  "cells": [
    {
      "cell_type": "markdown",
      "metadata": {
        "id": "view-in-github",
        "colab_type": "text"
      },
      "source": [
        "<a href=\"https://colab.research.google.com/github/BooshanS/ML-Zoomcamp-2024/blob/main/ML_Zoomcamp_Homework_1.ipynb\" target=\"_parent\"><img src=\"https://colab.research.google.com/assets/colab-badge.svg\" alt=\"Open In Colab\"/></a>"
      ]
    },
    {
      "cell_type": "code",
      "execution_count": 43,
      "metadata": {
        "id": "rpPnYgrknzrW"
      },
      "outputs": [],
      "source": [
        "import pandas as pd\n",
        "import numpy as np"
      ]
    },
    {
      "cell_type": "markdown",
      "source": [
        "# Getting the Dataset"
      ],
      "metadata": {
        "id": "RBGqibd0pAws"
      }
    },
    {
      "cell_type": "code",
      "source": [
        "#get the dataset\n",
        "!wget https://raw.githubusercontent.com/alexeygrigorev/datasets/master/laptops.csv"
      ],
      "metadata": {
        "colab": {
          "base_uri": "https://localhost:8080/"
        },
        "id": "ANeRFUwMoPht",
        "outputId": "c464d619-7245-4e1c-9131-e86bf004eaa9"
      },
      "execution_count": 6,
      "outputs": [
        {
          "output_type": "stream",
          "name": "stdout",
          "text": [
            "--2024-09-20 13:32:04--  https://raw.githubusercontent.com/alexeygrigorev/datasets/master/laptops.csv\n",
            "Resolving raw.githubusercontent.com (raw.githubusercontent.com)... 185.199.109.133, 185.199.108.133, 185.199.110.133, ...\n",
            "Connecting to raw.githubusercontent.com (raw.githubusercontent.com)|185.199.109.133|:443... connected.\n",
            "HTTP request sent, awaiting response... 200 OK\n",
            "Length: 298573 (292K) [text/plain]\n",
            "Saving to: ‘laptops.csv’\n",
            "\n",
            "laptops.csv         100%[===================>] 291.58K  --.-KB/s    in 0.04s   \n",
            "\n",
            "2024-09-20 13:32:05 (6.75 MB/s) - ‘laptops.csv’ saved [298573/298573]\n",
            "\n"
          ]
        }
      ]
    },
    {
      "cell_type": "markdown",
      "source": [
        "# Reading the CSV"
      ],
      "metadata": {
        "id": "83-swWo0pJS_"
      }
    },
    {
      "cell_type": "code",
      "source": [
        "#read csv\n",
        "laptops_df = pd.read_csv('laptops.csv')"
      ],
      "metadata": {
        "colab": {
          "base_uri": "https://localhost:8080/"
        },
        "id": "JAHKEY-7oiQO",
        "outputId": "5f249f95-842f-42aa-97f3-e837b20f7aa4"
      },
      "execution_count": 8,
      "outputs": [
        {
          "output_type": "execute_result",
          "data": {
            "text/plain": [
              "(2160, 12)"
            ]
          },
          "metadata": {},
          "execution_count": 8
        }
      ]
    },
    {
      "cell_type": "markdown",
      "source": [
        "# Number of rows"
      ],
      "metadata": {
        "id": "ClTdo18FpXRM"
      }
    },
    {
      "cell_type": "code",
      "source": [
        "laptops_df.shape"
      ],
      "metadata": {
        "id": "CXJNmlT_pUbJ"
      },
      "execution_count": null,
      "outputs": []
    },
    {
      "cell_type": "markdown",
      "source": [
        "# Number of brands"
      ],
      "metadata": {
        "id": "2X-9fLGCp8fH"
      }
    },
    {
      "cell_type": "code",
      "source": [
        "len(laptops_df['Brand'].unique())\n"
      ],
      "metadata": {
        "colab": {
          "base_uri": "https://localhost:8080/"
        },
        "id": "lNKzsfpMpeJX",
        "outputId": "d259db86-00c6-45e2-aeb9-73033cd914f5"
      },
      "execution_count": 15,
      "outputs": [
        {
          "output_type": "execute_result",
          "data": {
            "text/plain": [
              "27"
            ]
          },
          "metadata": {},
          "execution_count": 15
        }
      ]
    },
    {
      "cell_type": "markdown",
      "source": [
        "# Number of null columns"
      ],
      "metadata": {
        "id": "gLCSoyOfrhpU"
      }
    },
    {
      "cell_type": "code",
      "source": [
        "len(laptops_df.columns[laptops_df.isnull().any()].to_list())"
      ],
      "metadata": {
        "colab": {
          "base_uri": "https://localhost:8080/"
        },
        "id": "QqcHhyFEqCOq",
        "outputId": "2df28802-1888-4652-d606-f059f90c7594"
      },
      "execution_count": 22,
      "outputs": [
        {
          "output_type": "execute_result",
          "data": {
            "text/plain": [
              "3"
            ]
          },
          "metadata": {},
          "execution_count": 22
        }
      ]
    },
    {
      "cell_type": "markdown",
      "source": [
        "# Maximum Price for Dell Laptops"
      ],
      "metadata": {
        "id": "hl-CG2M7tOts"
      }
    },
    {
      "cell_type": "code",
      "source": [
        "laptops_df[laptops_df['Brand']=='Dell']['Final Price'].max()"
      ],
      "metadata": {
        "colab": {
          "base_uri": "https://localhost:8080/"
        },
        "id": "ekT4L3DOrnzw",
        "outputId": "36b6f73a-e7e5-4f54-9f25-86cdf1e3cdec"
      },
      "execution_count": 31,
      "outputs": [
        {
          "output_type": "execute_result",
          "data": {
            "text/plain": [
              "3936.0"
            ]
          },
          "metadata": {},
          "execution_count": 31
        }
      ]
    },
    {
      "cell_type": "markdown",
      "source": [
        "# Median value for screen"
      ],
      "metadata": {
        "id": "lufZQmOAuEb5"
      }
    },
    {
      "cell_type": "code",
      "source": [
        "old_median = laptops_df['Screen'].median()\n",
        "mode = laptops_df['Screen'].mode()\n",
        "laptops_df['Screen'].fillna(mode[0], inplace=True)\n",
        "new_median = laptops_df['Screen'].median()\n",
        "old_median == new_median"
      ],
      "metadata": {
        "colab": {
          "base_uri": "https://localhost:8080/"
        },
        "id": "CIvYP7mrtjle",
        "outputId": "3c0be43a-937a-4864-dcdb-239b514d3074"
      },
      "execution_count": 35,
      "outputs": [
        {
          "output_type": "execute_result",
          "data": {
            "text/plain": [
              "True"
            ]
          },
          "metadata": {},
          "execution_count": 35
        }
      ]
    },
    {
      "cell_type": "markdown",
      "source": [
        "# Sum of Weights"
      ],
      "metadata": {
        "id": "L6PxV1aP5-hJ"
      }
    },
    {
      "cell_type": "code",
      "source": [
        "x = laptops_df[laptops_df['Brand']=='Innjoo'][['RAM','Storage','Screen']].to_numpy()\n",
        "xtx = x.T @ x\n",
        "y = [1100, 1300, 800, 900, 1000, 1100]\n",
        "xtx_inv = np.linalg.inv(xtx)\n",
        "w = xtx_inv @ x.T @ y\n",
        "w.sum()"
      ],
      "metadata": {
        "colab": {
          "base_uri": "https://localhost:8080/"
        },
        "id": "Cas6IbqC4l27",
        "outputId": "b38389fa-ba74-4d6a-845f-92c66402ec7f"
      },
      "execution_count": 48,
      "outputs": [
        {
          "output_type": "execute_result",
          "data": {
            "text/plain": [
              "91.2998806299555"
            ]
          },
          "metadata": {},
          "execution_count": 48
        }
      ]
    }
  ]
}